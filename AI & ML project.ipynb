{
 "cells": [
  {
   "cell_type": "markdown",
   "id": "f04565aa",
   "metadata": {},
   "source": [
    "## Problem Statement\n",
    "\n",
    "- The aim is to predict the final grade using several machine learning methods. The objective is to assess how well each algorithm predicts student outcomes using the data it has. The goal is to create a strong predictive model with better accuracy and generalisation capabilities by using advanced machine learning techniques."
   ]
  },
  {
   "cell_type": "code",
   "execution_count": 287,
   "id": "41fd2b56",
   "metadata": {},
   "outputs": [],
   "source": [
    "import pandas as s\n",
    "import pandas as p\n",
    "import matplotlib.pyplot as t\n",
    "import seaborn as n\n",
    "%matplotlib inline"
   ]
  },
  {
   "cell_type": "markdown",
   "id": "08a8f4a7",
   "metadata": {},
   "source": [
    "### Data Collection\n",
    "\n",
    "We will first read the data. Load the dataset of student-mat.csv file into a pandas dataframe"
   ]
  },
  {
   "cell_type": "code",
   "execution_count": 288,
   "id": "b4ffabec",
   "metadata": {},
   "outputs": [],
   "source": [
    "stud= s.read_csv('student-mat.csv')   "
   ]
  },
  {
   "cell_type": "markdown",
   "id": "5c3df334",
   "metadata": {},
   "source": [
    "- The data used comes from a  secondary school. The data set includes the students' academic and personal qualities, as well as their final grades. The aim is to anticipate the final grade based on student information. "
   ]
  },
  {
   "cell_type": "code",
   "execution_count": 289,
   "id": "a832fa30",
   "metadata": {},
   "outputs": [
    {
     "name": "stdout",
     "output_type": "stream",
     "text": [
      "<class 'pandas.core.frame.DataFrame'>\n",
      "RangeIndex: 395 entries, 0 to 394\n",
      "Data columns (total 33 columns):\n",
      " #   Column      Non-Null Count  Dtype \n",
      "---  ------      --------------  ----- \n",
      " 0   school      395 non-null    object\n",
      " 1   sex         395 non-null    object\n",
      " 2   age         395 non-null    int64 \n",
      " 3   address     395 non-null    object\n",
      " 4   famsize     395 non-null    object\n",
      " 5   Pstatus     395 non-null    object\n",
      " 6   Medu        395 non-null    int64 \n",
      " 7   Fedu        395 non-null    int64 \n",
      " 8   Mjob        395 non-null    object\n",
      " 9   Fjob        395 non-null    object\n",
      " 10  reason      395 non-null    object\n",
      " 11  guardian    395 non-null    object\n",
      " 12  traveltime  395 non-null    int64 \n",
      " 13  studytime   395 non-null    int64 \n",
      " 14  failures    395 non-null    int64 \n",
      " 15  schoolsup   395 non-null    object\n",
      " 16  famsup      395 non-null    object\n",
      " 17  paid        395 non-null    object\n",
      " 18  activities  395 non-null    object\n",
      " 19  nursery     395 non-null    object\n",
      " 20  higher      395 non-null    object\n",
      " 21  internet    395 non-null    object\n",
      " 22  romantic    395 non-null    object\n",
      " 23  famrel      395 non-null    int64 \n",
      " 24  freetime    395 non-null    int64 \n",
      " 25  goout       395 non-null    int64 \n",
      " 26  Dalc        395 non-null    int64 \n",
      " 27  Walc        395 non-null    int64 \n",
      " 28  health      395 non-null    int64 \n",
      " 29  absences    395 non-null    int64 \n",
      " 30  G1          395 non-null    int64 \n",
      " 31  G2          395 non-null    int64 \n",
      " 32  G3          395 non-null    int64 \n",
      "dtypes: int64(16), object(17)\n",
      "memory usage: 102.0+ KB\n"
     ]
    }
   ],
   "source": [
    "stud.info()"
   ]
  },
  {
   "cell_type": "code",
   "execution_count": 290,
   "id": "02fbbed8",
   "metadata": {},
   "outputs": [
    {
     "name": "stdout",
     "output_type": "stream",
     "text": [
      "Total students: 395\n"
     ]
    }
   ],
   "source": [
    "print('Total students:',len(stud))"
   ]
  },
  {
   "cell_type": "code",
   "execution_count": 291,
   "id": "a6e91630",
   "metadata": {},
   "outputs": [
    {
     "data": {
      "text/plain": [
       "count    395.000000\n",
       "mean      10.415190\n",
       "std        4.581443\n",
       "min        0.000000\n",
       "25%        8.000000\n",
       "50%       11.000000\n",
       "75%       14.000000\n",
       "max       20.000000\n",
       "Name: G3, dtype: float64"
      ]
     },
     "execution_count": 291,
     "metadata": {},
     "output_type": "execute_result"
    }
   ],
   "source": [
    "\n",
    "stud['G3'].describe()"
   ]
  },
  {
   "cell_type": "code",
   "execution_count": 292,
   "id": "9f672d55",
   "metadata": {},
   "outputs": [
    {
     "data": {
      "text/plain": [
       "Index(['school', 'sex', 'age', 'address', 'famsize', 'Pstatus', 'Medu', 'Fedu',\n",
       "       'Mjob', 'Fjob', 'reason', 'guardian', 'traveltime', 'studytime',\n",
       "       'failures', 'schoolsup', 'famsup', 'paid', 'activities', 'nursery',\n",
       "       'higher', 'internet', 'romantic', 'famrel', 'freetime', 'goout', 'Dalc',\n",
       "       'Walc', 'health', 'absences', 'G1', 'G2', 'G3'],\n",
       "      dtype='object')"
      ]
     },
     "execution_count": 292,
     "metadata": {},
     "output_type": "execute_result"
    }
   ],
   "source": [
    "stud.columns    "
   ]
  },
  {
   "cell_type": "code",
   "execution_count": 293,
   "id": "a26dde4c",
   "metadata": {},
   "outputs": [
    {
     "data": {
      "text/html": [
       "<div>\n",
       "<style scoped>\n",
       "    .dataframe tbody tr th:only-of-type {\n",
       "        vertical-align: middle;\n",
       "    }\n",
       "\n",
       "    .dataframe tbody tr th {\n",
       "        vertical-align: top;\n",
       "    }\n",
       "\n",
       "    .dataframe thead th {\n",
       "        text-align: right;\n",
       "    }\n",
       "</style>\n",
       "<table border=\"1\" class=\"dataframe\">\n",
       "  <thead>\n",
       "    <tr style=\"text-align: right;\">\n",
       "      <th></th>\n",
       "      <th>school</th>\n",
       "      <th>sex</th>\n",
       "      <th>age</th>\n",
       "      <th>address</th>\n",
       "      <th>famsize</th>\n",
       "      <th>Pstatus</th>\n",
       "      <th>Medu</th>\n",
       "      <th>Fedu</th>\n",
       "      <th>Mjob</th>\n",
       "      <th>Fjob</th>\n",
       "      <th>...</th>\n",
       "      <th>famrel</th>\n",
       "      <th>freetime</th>\n",
       "      <th>goout</th>\n",
       "      <th>Dalc</th>\n",
       "      <th>Walc</th>\n",
       "      <th>health</th>\n",
       "      <th>absences</th>\n",
       "      <th>G1</th>\n",
       "      <th>G2</th>\n",
       "      <th>G3</th>\n",
       "    </tr>\n",
       "  </thead>\n",
       "  <tbody>\n",
       "    <tr>\n",
       "      <th>0</th>\n",
       "      <td>GP</td>\n",
       "      <td>F</td>\n",
       "      <td>18</td>\n",
       "      <td>U</td>\n",
       "      <td>GT3</td>\n",
       "      <td>A</td>\n",
       "      <td>4</td>\n",
       "      <td>4</td>\n",
       "      <td>at_home</td>\n",
       "      <td>teacher</td>\n",
       "      <td>...</td>\n",
       "      <td>4</td>\n",
       "      <td>3</td>\n",
       "      <td>4</td>\n",
       "      <td>1</td>\n",
       "      <td>1</td>\n",
       "      <td>3</td>\n",
       "      <td>6</td>\n",
       "      <td>5</td>\n",
       "      <td>6</td>\n",
       "      <td>6</td>\n",
       "    </tr>\n",
       "    <tr>\n",
       "      <th>1</th>\n",
       "      <td>GP</td>\n",
       "      <td>F</td>\n",
       "      <td>17</td>\n",
       "      <td>U</td>\n",
       "      <td>GT3</td>\n",
       "      <td>T</td>\n",
       "      <td>1</td>\n",
       "      <td>1</td>\n",
       "      <td>at_home</td>\n",
       "      <td>other</td>\n",
       "      <td>...</td>\n",
       "      <td>5</td>\n",
       "      <td>3</td>\n",
       "      <td>3</td>\n",
       "      <td>1</td>\n",
       "      <td>1</td>\n",
       "      <td>3</td>\n",
       "      <td>4</td>\n",
       "      <td>5</td>\n",
       "      <td>5</td>\n",
       "      <td>6</td>\n",
       "    </tr>\n",
       "    <tr>\n",
       "      <th>2</th>\n",
       "      <td>GP</td>\n",
       "      <td>F</td>\n",
       "      <td>15</td>\n",
       "      <td>U</td>\n",
       "      <td>LE3</td>\n",
       "      <td>T</td>\n",
       "      <td>1</td>\n",
       "      <td>1</td>\n",
       "      <td>at_home</td>\n",
       "      <td>other</td>\n",
       "      <td>...</td>\n",
       "      <td>4</td>\n",
       "      <td>3</td>\n",
       "      <td>2</td>\n",
       "      <td>2</td>\n",
       "      <td>3</td>\n",
       "      <td>3</td>\n",
       "      <td>10</td>\n",
       "      <td>7</td>\n",
       "      <td>8</td>\n",
       "      <td>10</td>\n",
       "    </tr>\n",
       "    <tr>\n",
       "      <th>3</th>\n",
       "      <td>GP</td>\n",
       "      <td>F</td>\n",
       "      <td>15</td>\n",
       "      <td>U</td>\n",
       "      <td>GT3</td>\n",
       "      <td>T</td>\n",
       "      <td>4</td>\n",
       "      <td>2</td>\n",
       "      <td>health</td>\n",
       "      <td>services</td>\n",
       "      <td>...</td>\n",
       "      <td>3</td>\n",
       "      <td>2</td>\n",
       "      <td>2</td>\n",
       "      <td>1</td>\n",
       "      <td>1</td>\n",
       "      <td>5</td>\n",
       "      <td>2</td>\n",
       "      <td>15</td>\n",
       "      <td>14</td>\n",
       "      <td>15</td>\n",
       "    </tr>\n",
       "    <tr>\n",
       "      <th>4</th>\n",
       "      <td>GP</td>\n",
       "      <td>F</td>\n",
       "      <td>16</td>\n",
       "      <td>U</td>\n",
       "      <td>GT3</td>\n",
       "      <td>T</td>\n",
       "      <td>3</td>\n",
       "      <td>3</td>\n",
       "      <td>other</td>\n",
       "      <td>other</td>\n",
       "      <td>...</td>\n",
       "      <td>4</td>\n",
       "      <td>3</td>\n",
       "      <td>2</td>\n",
       "      <td>1</td>\n",
       "      <td>2</td>\n",
       "      <td>5</td>\n",
       "      <td>4</td>\n",
       "      <td>6</td>\n",
       "      <td>10</td>\n",
       "      <td>10</td>\n",
       "    </tr>\n",
       "  </tbody>\n",
       "</table>\n",
       "<p>5 rows × 33 columns</p>\n",
       "</div>"
      ],
      "text/plain": [
       "  school sex  age address famsize Pstatus  Medu  Fedu     Mjob      Fjob  ...  \\\n",
       "0     GP   F   18       U     GT3       A     4     4  at_home   teacher  ...   \n",
       "1     GP   F   17       U     GT3       T     1     1  at_home     other  ...   \n",
       "2     GP   F   15       U     LE3       T     1     1  at_home     other  ...   \n",
       "3     GP   F   15       U     GT3       T     4     2   health  services  ...   \n",
       "4     GP   F   16       U     GT3       T     3     3    other     other  ...   \n",
       "\n",
       "  famrel freetime  goout  Dalc  Walc health absences  G1  G2  G3  \n",
       "0      4        3      4     1     1      3        6   5   6   6  \n",
       "1      5        3      3     1     1      3        4   5   5   6  \n",
       "2      4        3      2     2     3      3       10   7   8  10  \n",
       "3      3        2      2     1     1      5        2  15  14  15  \n",
       "4      4        3      2     1     2      5        4   6  10  10  \n",
       "\n",
       "[5 rows x 33 columns]"
      ]
     },
     "execution_count": 293,
     "metadata": {},
     "output_type": "execute_result"
    }
   ],
   "source": [
    "stud.head()"
   ]
  },
  {
   "cell_type": "code",
   "execution_count": 294,
   "id": "e55b6f65",
   "metadata": {},
   "outputs": [
    {
     "data": {
      "text/html": [
       "<div>\n",
       "<style scoped>\n",
       "    .dataframe tbody tr th:only-of-type {\n",
       "        vertical-align: middle;\n",
       "    }\n",
       "\n",
       "    .dataframe tbody tr th {\n",
       "        vertical-align: top;\n",
       "    }\n",
       "\n",
       "    .dataframe thead th {\n",
       "        text-align: right;\n",
       "    }\n",
       "</style>\n",
       "<table border=\"1\" class=\"dataframe\">\n",
       "  <thead>\n",
       "    <tr style=\"text-align: right;\">\n",
       "      <th></th>\n",
       "      <th>school</th>\n",
       "      <th>sex</th>\n",
       "      <th>age</th>\n",
       "      <th>address</th>\n",
       "      <th>famsize</th>\n",
       "      <th>Pstatus</th>\n",
       "      <th>Medu</th>\n",
       "      <th>Fedu</th>\n",
       "      <th>Mjob</th>\n",
       "      <th>Fjob</th>\n",
       "      <th>...</th>\n",
       "      <th>famrel</th>\n",
       "      <th>freetime</th>\n",
       "      <th>goout</th>\n",
       "      <th>Dalc</th>\n",
       "      <th>Walc</th>\n",
       "      <th>health</th>\n",
       "      <th>absences</th>\n",
       "      <th>G1</th>\n",
       "      <th>G2</th>\n",
       "      <th>G3</th>\n",
       "    </tr>\n",
       "  </thead>\n",
       "  <tbody>\n",
       "    <tr>\n",
       "      <th>390</th>\n",
       "      <td>MS</td>\n",
       "      <td>M</td>\n",
       "      <td>20</td>\n",
       "      <td>U</td>\n",
       "      <td>LE3</td>\n",
       "      <td>A</td>\n",
       "      <td>2</td>\n",
       "      <td>2</td>\n",
       "      <td>services</td>\n",
       "      <td>services</td>\n",
       "      <td>...</td>\n",
       "      <td>5</td>\n",
       "      <td>5</td>\n",
       "      <td>4</td>\n",
       "      <td>4</td>\n",
       "      <td>5</td>\n",
       "      <td>4</td>\n",
       "      <td>11</td>\n",
       "      <td>9</td>\n",
       "      <td>9</td>\n",
       "      <td>9</td>\n",
       "    </tr>\n",
       "    <tr>\n",
       "      <th>391</th>\n",
       "      <td>MS</td>\n",
       "      <td>M</td>\n",
       "      <td>17</td>\n",
       "      <td>U</td>\n",
       "      <td>LE3</td>\n",
       "      <td>T</td>\n",
       "      <td>3</td>\n",
       "      <td>1</td>\n",
       "      <td>services</td>\n",
       "      <td>services</td>\n",
       "      <td>...</td>\n",
       "      <td>2</td>\n",
       "      <td>4</td>\n",
       "      <td>5</td>\n",
       "      <td>3</td>\n",
       "      <td>4</td>\n",
       "      <td>2</td>\n",
       "      <td>3</td>\n",
       "      <td>14</td>\n",
       "      <td>16</td>\n",
       "      <td>16</td>\n",
       "    </tr>\n",
       "    <tr>\n",
       "      <th>392</th>\n",
       "      <td>MS</td>\n",
       "      <td>M</td>\n",
       "      <td>21</td>\n",
       "      <td>R</td>\n",
       "      <td>GT3</td>\n",
       "      <td>T</td>\n",
       "      <td>1</td>\n",
       "      <td>1</td>\n",
       "      <td>other</td>\n",
       "      <td>other</td>\n",
       "      <td>...</td>\n",
       "      <td>5</td>\n",
       "      <td>5</td>\n",
       "      <td>3</td>\n",
       "      <td>3</td>\n",
       "      <td>3</td>\n",
       "      <td>3</td>\n",
       "      <td>3</td>\n",
       "      <td>10</td>\n",
       "      <td>8</td>\n",
       "      <td>7</td>\n",
       "    </tr>\n",
       "    <tr>\n",
       "      <th>393</th>\n",
       "      <td>MS</td>\n",
       "      <td>M</td>\n",
       "      <td>18</td>\n",
       "      <td>R</td>\n",
       "      <td>LE3</td>\n",
       "      <td>T</td>\n",
       "      <td>3</td>\n",
       "      <td>2</td>\n",
       "      <td>services</td>\n",
       "      <td>other</td>\n",
       "      <td>...</td>\n",
       "      <td>4</td>\n",
       "      <td>4</td>\n",
       "      <td>1</td>\n",
       "      <td>3</td>\n",
       "      <td>4</td>\n",
       "      <td>5</td>\n",
       "      <td>0</td>\n",
       "      <td>11</td>\n",
       "      <td>12</td>\n",
       "      <td>10</td>\n",
       "    </tr>\n",
       "    <tr>\n",
       "      <th>394</th>\n",
       "      <td>MS</td>\n",
       "      <td>M</td>\n",
       "      <td>19</td>\n",
       "      <td>U</td>\n",
       "      <td>LE3</td>\n",
       "      <td>T</td>\n",
       "      <td>1</td>\n",
       "      <td>1</td>\n",
       "      <td>other</td>\n",
       "      <td>at_home</td>\n",
       "      <td>...</td>\n",
       "      <td>3</td>\n",
       "      <td>2</td>\n",
       "      <td>3</td>\n",
       "      <td>3</td>\n",
       "      <td>3</td>\n",
       "      <td>5</td>\n",
       "      <td>5</td>\n",
       "      <td>8</td>\n",
       "      <td>9</td>\n",
       "      <td>9</td>\n",
       "    </tr>\n",
       "  </tbody>\n",
       "</table>\n",
       "<p>5 rows × 33 columns</p>\n",
       "</div>"
      ],
      "text/plain": [
       "    school sex  age address famsize Pstatus  Medu  Fedu      Mjob      Fjob  \\\n",
       "390     MS   M   20       U     LE3       A     2     2  services  services   \n",
       "391     MS   M   17       U     LE3       T     3     1  services  services   \n",
       "392     MS   M   21       R     GT3       T     1     1     other     other   \n",
       "393     MS   M   18       R     LE3       T     3     2  services     other   \n",
       "394     MS   M   19       U     LE3       T     1     1     other   at_home   \n",
       "\n",
       "     ... famrel freetime  goout  Dalc  Walc health absences  G1  G2  G3  \n",
       "390  ...      5        5      4     4     5      4       11   9   9   9  \n",
       "391  ...      2        4      5     3     4      2        3  14  16  16  \n",
       "392  ...      5        5      3     3     3      3        3  10   8   7  \n",
       "393  ...      4        4      1     3     4      5        0  11  12  10  \n",
       "394  ...      3        2      3     3     3      5        5   8   9   9  \n",
       "\n",
       "[5 rows x 33 columns]"
      ]
     },
     "execution_count": 294,
     "metadata": {},
     "output_type": "execute_result"
    }
   ],
   "source": [
    "stud.tail()    "
   ]
  },
  {
   "cell_type": "code",
   "execution_count": 295,
   "id": "f01dc3d6",
   "metadata": {},
   "outputs": [
    {
     "data": {
      "text/plain": [
       "school        False\n",
       "sex           False\n",
       "age           False\n",
       "address       False\n",
       "famsize       False\n",
       "Pstatus       False\n",
       "Medu          False\n",
       "Fedu          False\n",
       "Mjob          False\n",
       "Fjob          False\n",
       "reason        False\n",
       "guardian      False\n",
       "traveltime    False\n",
       "studytime     False\n",
       "failures      False\n",
       "schoolsup     False\n",
       "famsup        False\n",
       "paid          False\n",
       "activities    False\n",
       "nursery       False\n",
       "higher        False\n",
       "internet      False\n",
       "romantic      False\n",
       "famrel        False\n",
       "freetime      False\n",
       "goout         False\n",
       "Dalc          False\n",
       "Walc          False\n",
       "health        False\n",
       "absences      False\n",
       "G1            False\n",
       "G2            False\n",
       "G3            False\n",
       "dtype: bool"
      ]
     },
     "execution_count": 295,
     "metadata": {},
     "output_type": "execute_result"
    }
   ],
   "source": [
    "stud.isnull().any()    "
   ]
  },
  {
   "cell_type": "markdown",
   "id": "1983cea6",
   "metadata": {},
   "source": [
    "## Data Visualization\n",
    "- To analyse the data we will do visualization to understatnd the dataset more accurately and then do the cleaning if needed"
   ]
  },
  {
   "cell_type": "code",
   "execution_count": 296,
   "id": "16ff941e",
   "metadata": {},
   "outputs": [
    {
     "data": {
      "text/plain": [
       "<Axes: >"
      ]
     },
     "execution_count": 296,
     "metadata": {},
     "output_type": "execute_result"
    },
    {
     "data": {
      "image/png": "[encoded data removed]",
      "text/plain": [
       "<Figure size 640x480 with 2 Axes>"
      ]
     },
     "metadata": {},
     "output_type": "display_data"
    }
   ],
   "source": [
    "n.heatmap(stud.isnull(),cmap=\"rainbow\",yticklabels=False)"
   ]
  },
  {
   "cell_type": "markdown",
   "id": "a4e52be0",
   "metadata": {},
   "source": [
    "- There are no null values in the given dataset"
   ]
  },
  {
   "cell_type": "markdown",
   "id": "7a6571d3",
   "metadata": {},
   "source": [
    "### Student Age"
   ]
  },
  {
   "cell_type": "code",
   "execution_count": 297,
   "id": "19404b8b",
   "metadata": {},
   "outputs": [
    {
     "data": {
      "image/png": "[encoded data removed]",
      "text/plain": [
       "<Figure size 640x480 with 1 Axes>"
      ]
     },
     "metadata": {},
     "output_type": "display_data"
    }
   ],
   "source": [
    "xy = n.kdeplot(stud['age'])    \n",
    "xy.axes.set_title('Students Age')\n",
    "xy.set_xlabel('Age')\n",
    "xy.set_ylabel('Count')\n",
    "t.show()"
   ]
  },
  {
   "cell_type": "code",
   "execution_count": 298,
   "id": "d38d46dc",
   "metadata": {},
   "outputs": [
    {
     "data": {
      "image/png": "[encoded data removed]",
      "text/plain": [
       "<Figure size 640x480 with 1 Axes>"
      ]
     },
     "metadata": {},
     "output_type": "display_data"
    }
   ],
   "source": [
    "a = n.countplot(x='age',hue='sex', data=stud, palette='inferno')\n",
    "a.axes.set_title('Count of Male and Female Students of Different age group')\n",
    "a.set_xlabel(\"Age\")\n",
    "a.set_ylabel(\"Count\")\n",
    "t.show()"
   ]
  },
  {
   "cell_type": "markdown",
   "id": "8caca440",
   "metadata": {},
   "source": [
    "- Here the age range of students which appear between 15 and 19 represents equal gender distribution in each age group.\n",
    "- As the age group over 19 may be consist of year-back students, outliers, or can be dropouts.\n"
   ]
  },
  {
   "cell_type": "markdown",
   "id": "ca5e61d7",
   "metadata": {},
   "source": [
    "### Students from Urban & Rural Areas"
   ]
  },
  {
   "cell_type": "code",
   "execution_count": 299,
   "id": "f9a4d9be",
   "metadata": {},
   "outputs": [
    {
     "name": "stdout",
     "output_type": "stream",
     "text": [
      "Count of urban students: 307\n",
      "Count of rural students: 88\n"
     ]
    }
   ],
   "source": [
    "u_stud = len(stud[stud['address'] == 'U'])    \n",
    "print('Count of urban students:',u_stud)\n",
    "\n",
    "r_stud = len(stud[stud['address'] == 'R'])    \n",
    "print('Count of rural students:',r_stud)"
   ]
  },
  {
   "cell_type": "code",
   "execution_count": 300,
   "id": "a0896417",
   "metadata": {},
   "outputs": [
    {
     "data": {
      "text/plain": [
       "<Axes: xlabel='address', ylabel='count'>"
      ]
     },
     "execution_count": 300,
     "metadata": {},
     "output_type": "execute_result"
    },
    {
     "data": {
      "image/png": "[encoded data removed]",
      "text/plain": [
       "<Figure size 640x480 with 1 Axes>"
      ]
     },
     "metadata": {},
     "output_type": "display_data"
    }
   ],
   "source": [
    "n.set_style('whitegrid')\n",
    "n.countplot(x='address',data=stud,palette='magma')"
   ]
  },
  {
   "cell_type": "markdown",
   "id": "b5491b25",
   "metadata": {},
   "source": [
    "- As we can see approximately 77.70% students come from urban region and around 22.00% come from rural region."
   ]
  },
  {
   "cell_type": "code",
   "execution_count": 301,
   "id": "5fee2e8c",
   "metadata": {},
   "outputs": [
    {
     "data": {
      "text/plain": [
       "<Axes: xlabel='address', ylabel='count'>"
      ]
     },
     "execution_count": 301,
     "metadata": {},
     "output_type": "execute_result"
    },
    {
     "data": {
      "image/png": "[encoded data removed]",
      "text/plain": [
       "<Figure size 640x480 with 1 Axes>"
      ]
     },
     "metadata": {},
     "output_type": "display_data"
    }
   ],
   "source": [
    "n.countplot(x='address',hue='G3',data=stud,palette='Oranges')"
   ]
  },
  {
   "cell_type": "markdown",
   "id": "92a967f8",
   "metadata": {},
   "source": [
    "### Data Preprocessing and Feature Engineering"
   ]
  },
  {
   "cell_type": "code",
   "execution_count": 303,
   "id": "a2dd21b9",
   "metadata": {},
   "outputs": [],
   "source": [
    "from sklearn.preprocessing import LabelEncoder\n",
    "le=LabelEncoder()\n",
    "stud.iloc[:,0]=le.fit_transform(stud.iloc[:,0])\n",
    "stud.iloc[:,1]=le.fit_transform(stud.iloc[:,1])\n",
    "stud.iloc[:,3]=le.fit_transform(stud.iloc[:,3])\n",
    "stud.iloc[:,4]=le.fit_transform(stud.iloc[:,4])\n",
    "stud.iloc[:,5]=le.fit_transform(stud.iloc[:,5])\n",
    "stud.iloc[:,8]=le.fit_transform(stud.iloc[:,8])\n",
    "stud.iloc[:,9]=le.fit_transform(stud.iloc[:,9])\n",
    "stud.iloc[:,10]=le.fit_transform(stud.iloc[:,10])\n",
    "stud.iloc[:,11]=le.fit_transform(stud.iloc[:,11])\n",
    "stud.iloc[:,15]=le.fit_transform(stud.iloc[:,15])\n",
    "stud.iloc[:,16]=le.fit_transform(stud.iloc[:,16])\n",
    "stud.iloc[:,17]=le.fit_transform(stud.iloc[:,17])\n",
    "stud.iloc[:,18]=le.fit_transform(stud.iloc[:,18])\n",
    "stud.iloc[:,19]=le.fit_transform(stud.iloc[:,19])\n",
    "stud.iloc[:,20]=le.fit_transform(stud.iloc[:,20])\n",
    "stud.iloc[:,21]=le.fit_transform(stud.iloc[:,21])\n",
    "stud.iloc[:,22]=le.fit_transform(stud.iloc[:,22])\n",
    "\n",
    "from sklearn.model_selection import train_test_split\n",
    "from sklearn.preprocessing import MinMaxScaler\n"
   ]
  },
  {
   "cell_type": "code",
   "execution_count": 304,
   "id": "00d81c88",
   "metadata": {},
   "outputs": [
    {
     "data": {
      "text/plain": [
       "failures     -0.360415\n",
       "age          -0.161579\n",
       "goout        -0.132791\n",
       "romantic     -0.129970\n",
       "traveltime   -0.117142\n",
       "schoolsup    -0.082788\n",
       "guardian     -0.070109\n",
       "health       -0.061335\n",
       "Pstatus      -0.058009\n",
       "Dalc         -0.054660\n",
       "Walc         -0.051939\n",
       "school       -0.045017\n",
       "famsup       -0.039157\n",
       "freetime      0.011307\n",
       "activities    0.016100\n",
       "absences      0.034247\n",
       "Fjob          0.042286\n",
       "famrel        0.051363\n",
       "nursery       0.051568\n",
       "famsize       0.081407\n",
       "studytime     0.097820\n",
       "internet      0.098483\n",
       "paid          0.101996\n",
       "Mjob          0.102082\n",
       "sex           0.103456\n",
       "address       0.105756\n",
       "reason        0.121994\n",
       "Fedu          0.152457\n",
       "higher        0.182465\n",
       "Medu          0.217147\n",
       "G1            0.801468\n",
       "G2            0.904868\n",
       "G3            1.000000\n",
       "Name: G3, dtype: float64"
      ]
     },
     "execution_count": 304,
     "metadata": {},
     "output_type": "execute_result"
    }
   ],
   "source": [
    "stud.corr()['G3'].sort_values()    "
   ]
  },
  {
   "cell_type": "code",
   "execution_count": 305,
   "id": "39a98d83",
   "metadata": {},
   "outputs": [],
   "source": [
    "stud = stud.drop(['school', 'G1', 'G2'], axis='columns')"
   ]
  },
  {
   "cell_type": "markdown",
   "id": "9e4a1616",
   "metadata": {},
   "source": [
    "- As G1 and G2 which is correlated to the final grade G3, we will drop them. Its more difficult to predict G3 with missing G2 and G1."
   ]
  },
  {
   "cell_type": "code",
   "execution_count": 306,
   "id": "cc95af34",
   "metadata": {},
   "outputs": [
    {
     "data": {
      "text/plain": [
       "G3          1.000000\n",
       "failures    0.360415\n",
       "Medu        0.217147\n",
       "higher      0.182465\n",
       "age         0.161579\n",
       "Fedu        0.152457\n",
       "goout       0.132791\n",
       "romantic    0.129970\n",
       "reason      0.121994\n",
       "Name: G3, dtype: float64"
      ]
     },
     "execution_count": 306,
     "metadata": {},
     "output_type": "execute_result"
    }
   ],
   "source": [
    "most_correlated = stud.corr().abs()['G3'].sort_values(ascending=False)\n",
    "\n",
    "\n",
    "most_correlated = most_correlated[:9]\n",
    "most_correlated\n"
   ]
  },
  {
   "cell_type": "code",
   "execution_count": 307,
   "id": "74a287e6",
   "metadata": {},
   "outputs": [
    {
     "data": {
      "text/html": [
       "<div>\n",
       "<style scoped>\n",
       "    .dataframe tbody tr th:only-of-type {\n",
       "        vertical-align: middle;\n",
       "    }\n",
       "\n",
       "    .dataframe tbody tr th {\n",
       "        vertical-align: top;\n",
       "    }\n",
       "\n",
       "    .dataframe thead th {\n",
       "        text-align: right;\n",
       "    }\n",
       "</style>\n",
       "<table border=\"1\" class=\"dataframe\">\n",
       "  <thead>\n",
       "    <tr style=\"text-align: right;\">\n",
       "      <th></th>\n",
       "      <th>G3</th>\n",
       "      <th>failures</th>\n",
       "      <th>Medu</th>\n",
       "      <th>higher</th>\n",
       "      <th>age</th>\n",
       "      <th>Fedu</th>\n",
       "      <th>goout</th>\n",
       "      <th>romantic</th>\n",
       "      <th>reason</th>\n",
       "    </tr>\n",
       "  </thead>\n",
       "  <tbody>\n",
       "    <tr>\n",
       "      <th>0</th>\n",
       "      <td>6</td>\n",
       "      <td>0</td>\n",
       "      <td>4</td>\n",
       "      <td>1</td>\n",
       "      <td>18</td>\n",
       "      <td>4</td>\n",
       "      <td>4</td>\n",
       "      <td>0</td>\n",
       "      <td>0</td>\n",
       "    </tr>\n",
       "    <tr>\n",
       "      <th>1</th>\n",
       "      <td>6</td>\n",
       "      <td>0</td>\n",
       "      <td>1</td>\n",
       "      <td>1</td>\n",
       "      <td>17</td>\n",
       "      <td>1</td>\n",
       "      <td>3</td>\n",
       "      <td>0</td>\n",
       "      <td>0</td>\n",
       "    </tr>\n",
       "    <tr>\n",
       "      <th>2</th>\n",
       "      <td>10</td>\n",
       "      <td>3</td>\n",
       "      <td>1</td>\n",
       "      <td>1</td>\n",
       "      <td>15</td>\n",
       "      <td>1</td>\n",
       "      <td>2</td>\n",
       "      <td>0</td>\n",
       "      <td>2</td>\n",
       "    </tr>\n",
       "    <tr>\n",
       "      <th>3</th>\n",
       "      <td>15</td>\n",
       "      <td>0</td>\n",
       "      <td>4</td>\n",
       "      <td>1</td>\n",
       "      <td>15</td>\n",
       "      <td>2</td>\n",
       "      <td>2</td>\n",
       "      <td>1</td>\n",
       "      <td>1</td>\n",
       "    </tr>\n",
       "    <tr>\n",
       "      <th>4</th>\n",
       "      <td>10</td>\n",
       "      <td>0</td>\n",
       "      <td>3</td>\n",
       "      <td>1</td>\n",
       "      <td>16</td>\n",
       "      <td>3</td>\n",
       "      <td>2</td>\n",
       "      <td>0</td>\n",
       "      <td>1</td>\n",
       "    </tr>\n",
       "  </tbody>\n",
       "</table>\n",
       "</div>"
      ],
      "text/plain": [
       "   G3  failures  Medu higher  age  Fedu  goout romantic reason\n",
       "0   6         0     4      1   18     4      4        0      0\n",
       "1   6         0     1      1   17     1      3        0      0\n",
       "2  10         3     1      1   15     1      2        0      2\n",
       "3  15         0     4      1   15     2      2        1      1\n",
       "4  10         0     3      1   16     3      2        0      1"
      ]
     },
     "execution_count": 307,
     "metadata": {},
     "output_type": "execute_result"
    }
   ],
   "source": [
    "stud = stud.loc[:, most_correlated.index]\n",
    "stud.head()"
   ]
  },
  {
   "cell_type": "code",
   "execution_count": 310,
   "id": "69e6cf40",
   "metadata": {},
   "outputs": [],
   "source": [
    "X_train, X_test, y_train, y_test = train_test_split(stud, stud['G3'], test_size = 0.25, random_state=42)"
   ]
  },
  {
   "cell_type": "markdown",
   "id": "6532670e",
   "metadata": {},
   "source": [
    "- Splited the data into training and testing data (75% and 25%)"
   ]
  },
  {
   "cell_type": "code",
   "execution_count": 311,
   "id": "cecae27b",
   "metadata": {},
   "outputs": [
    {
     "data": {
      "text/html": [
       "<div>\n",
       "<style scoped>\n",
       "    .dataframe tbody tr th:only-of-type {\n",
       "        vertical-align: middle;\n",
       "    }\n",
       "\n",
       "    .dataframe tbody tr th {\n",
       "        vertical-align: top;\n",
       "    }\n",
       "\n",
       "    .dataframe thead th {\n",
       "        text-align: right;\n",
       "    }\n",
       "</style>\n",
       "<table border=\"1\" class=\"dataframe\">\n",
       "  <thead>\n",
       "    <tr style=\"text-align: right;\">\n",
       "      <th></th>\n",
       "      <th>G3</th>\n",
       "      <th>failures</th>\n",
       "      <th>Medu</th>\n",
       "      <th>higher</th>\n",
       "      <th>age</th>\n",
       "      <th>Fedu</th>\n",
       "      <th>goout</th>\n",
       "      <th>romantic</th>\n",
       "      <th>reason</th>\n",
       "    </tr>\n",
       "  </thead>\n",
       "  <tbody>\n",
       "    <tr>\n",
       "      <th>16</th>\n",
       "      <td>14</td>\n",
       "      <td>0</td>\n",
       "      <td>4</td>\n",
       "      <td>1</td>\n",
       "      <td>16</td>\n",
       "      <td>4</td>\n",
       "      <td>3</td>\n",
       "      <td>0</td>\n",
       "      <td>3</td>\n",
       "    </tr>\n",
       "    <tr>\n",
       "      <th>66</th>\n",
       "      <td>12</td>\n",
       "      <td>0</td>\n",
       "      <td>4</td>\n",
       "      <td>1</td>\n",
       "      <td>15</td>\n",
       "      <td>4</td>\n",
       "      <td>3</td>\n",
       "      <td>1</td>\n",
       "      <td>3</td>\n",
       "    </tr>\n",
       "    <tr>\n",
       "      <th>211</th>\n",
       "      <td>13</td>\n",
       "      <td>0</td>\n",
       "      <td>4</td>\n",
       "      <td>1</td>\n",
       "      <td>17</td>\n",
       "      <td>4</td>\n",
       "      <td>5</td>\n",
       "      <td>1</td>\n",
       "      <td>1</td>\n",
       "    </tr>\n",
       "    <tr>\n",
       "      <th>7</th>\n",
       "      <td>6</td>\n",
       "      <td>0</td>\n",
       "      <td>4</td>\n",
       "      <td>1</td>\n",
       "      <td>17</td>\n",
       "      <td>4</td>\n",
       "      <td>4</td>\n",
       "      <td>0</td>\n",
       "      <td>1</td>\n",
       "    </tr>\n",
       "    <tr>\n",
       "      <th>19</th>\n",
       "      <td>10</td>\n",
       "      <td>0</td>\n",
       "      <td>4</td>\n",
       "      <td>1</td>\n",
       "      <td>16</td>\n",
       "      <td>3</td>\n",
       "      <td>3</td>\n",
       "      <td>0</td>\n",
       "      <td>1</td>\n",
       "    </tr>\n",
       "  </tbody>\n",
       "</table>\n",
       "</div>"
      ],
      "text/plain": [
       "     G3  failures  Medu higher  age  Fedu  goout romantic reason\n",
       "16   14         0     4      1   16     4      3        0      3\n",
       "66   12         0     4      1   15     4      3        1      3\n",
       "211  13         0     4      1   17     4      5        1      1\n",
       "7     6         0     4      1   17     4      4        0      1\n",
       "19   10         0     4      1   16     3      3        0      1"
      ]
     },
     "execution_count": 311,
     "metadata": {},
     "output_type": "execute_result"
    }
   ],
   "source": [
    "X_train.head()"
   ]
  },
  {
   "cell_type": "markdown",
   "id": "ca9cd69b",
   "metadata": {},
   "source": [
    "## Machine Learning Algorithms"
   ]
  },
  {
   "cell_type": "code",
   "execution_count": 312,
   "id": "cb4a76be",
   "metadata": {},
   "outputs": [],
   "source": [
    "from sklearn.linear_model import LinearRegression\n",
    "from sklearn.linear_model import ElasticNet\n",
    "from sklearn.ensemble import RandomForestRegressor\n",
    "from sklearn.ensemble import ExtraTreesRegressor\n",
    "from sklearn.ensemble import GradientBoostingRegressor\n",
    "from sklearn.svm import SVR\n",
    "\n",
    "from sklearn.metrics import mean_squared_error, mean_absolute_error, median_absolute_error\n",
    "\n",
    "import scipy"
   ]
  },
  {
   "cell_type": "markdown",
   "id": "16d17c17",
   "metadata": {},
   "source": [
    "#### Model Traning"
   ]
  },
  {
   "cell_type": "code",
   "execution_count": 313,
   "id": "a532eb07",
   "metadata": {},
   "outputs": [
    {
     "name": "stdout",
     "output_type": "stream",
     "text": [
      "Training set shape: (316, 8) (316,)\n",
      "Testing set shape: (79, 8) (79,)\n"
     ]
    }
   ],
   "source": [
    "import pandas as pd\n",
    "from sklearn.model_selection import train_test_split\n",
    "\n",
    "features = ['failures', 'Medu', 'higher', 'age', 'Fedu', 'goout', 'romantic', 'reason']\n",
    "target = 'G3'\n",
    "\n",
    "X = stud[features]\n",
    "y = stud[target]\n",
    "\n",
    "X_train, X_test, y_train, y_test = train_test_split(X, y, test_size=0.2, random_state=42)\n",
    "\n",
    "print(\"Training set shape:\", X_train.shape, y_train.shape)\n",
    "print(\"Testing set shape:\", X_test.shape, y_test.shape)\n"
   ]
  },
  {
   "cell_type": "code",
   "execution_count": 314,
   "id": "3df36fc4",
   "metadata": {},
   "outputs": [
    {
     "name": "stdout",
     "output_type": "stream",
     "text": [
      "Linear Regression:\n",
      "MAE: 3.272752301846853\n",
      "MSE: 17.56310815821713\n",
      "R-squared: 0.14347390042014585\n",
      "\n",
      "Random Forest:\n",
      "MAE: 3.590729957805908\n",
      "MSE: 20.278035098768623\n",
      "R-squared: 0.011071038575509062\n",
      "\n",
      "Gradient Boosting:\n",
      "MAE: 3.5181381535981933\n",
      "MSE: 19.846942671741157\n",
      "R-squared: 0.03209476124201738\n",
      "\n",
      "Support Vector Machine:\n",
      "MAE: 3.401352808409564\n",
      "MSE: 18.444235352589967\n",
      "R-squared: 0.10050266593071955\n"
     ]
    }
   ],
   "source": [
    "from sklearn.linear_model import LinearRegression\n",
    "from sklearn.ensemble import RandomForestRegressor, GradientBoostingRegressor\n",
    "from sklearn.svm import SVR\n",
    "from sklearn.metrics import mean_absolute_error, mean_squared_error, r2_score\n",
    "\n",
    "linear_reg = LinearRegression()\n",
    "random_forest = RandomForestRegressor(random_state=42)\n",
    "gradient_boosting = GradientBoostingRegressor(random_state=42)\n",
    "svm = SVR()\n",
    "\n",
    "linear_reg.fit(X_train, y_train)\n",
    "random_forest.fit(X_train, y_train)\n",
    "gradient_boosting.fit(X_train, y_train)\n",
    "svm.fit(X_train, y_train)\n",
    "\n",
    "linear_reg_pred = linear_reg.predict(X_test)\n",
    "random_forest_pred = random_forest.predict(X_test)\n",
    "gradient_boosting_pred = gradient_boosting.predict(X_test)\n",
    "svm_pred = svm.predict(X_test)\n",
    "\n",
    "linear_reg_mae = mean_absolute_error(y_test, linear_reg_pred)\n",
    "linear_reg_mse = mean_squared_error(y_test, linear_reg_pred)\n",
    "linear_reg_r2 = r2_score(y_test, linear_reg_pred)\n",
    "\n",
    "random_forest_mae = mean_absolute_error(y_test, random_forest_pred)\n",
    "random_forest_mse = mean_squared_error(y_test, random_forest_pred)\n",
    "random_forest_r2 = r2_score(y_test, random_forest_pred)\n",
    "\n",
    "gradient_boosting_mae = mean_absolute_error(y_test, gradient_boosting_pred)\n",
    "gradient_boosting_mse = mean_squared_error(y_test, gradient_boosting_pred)\n",
    "gradient_boosting_r2 = r2_score(y_test, gradient_boosting_pred)\n",
    "\n",
    "svm_mae = mean_absolute_error(y_test, svm_pred)\n",
    "svm_mse = mean_squared_error(y_test, svm_pred)\n",
    "svm_r2 = r2_score(y_test, svm_pred)\n",
    "\n",
    "print(\"Linear Regression:\")\n",
    "print(\"MAE:\", linear_reg_mae)\n",
    "print(\"MSE:\", linear_reg_mse)\n",
    "print(\"R-squared:\", linear_reg_r2)\n",
    "print()\n",
    "\n",
    "print(\"Random Forest:\")\n",
    "print(\"MAE:\", random_forest_mae)\n",
    "print(\"MSE:\", random_forest_mse)\n",
    "print(\"R-squared:\", random_forest_r2)\n",
    "print()\n",
    "\n",
    "print(\"Gradient Boosting:\")\n",
    "print(\"MAE:\", gradient_boosting_mae)\n",
    "print(\"MSE:\", gradient_boosting_mse)\n",
    "print(\"R-squared:\", gradient_boosting_r2)\n",
    "print()\n",
    "\n",
    "print(\"Support Vector Machine:\")\n",
    "print(\"MAE:\", svm_mae)\n",
    "print(\"MSE:\", svm_mse)\n",
    "print(\"R-squared:\", svm_r2)\n"
   ]
  },
  {
   "cell_type": "code",
   "execution_count": 315,
   "id": "b4bd10a9",
   "metadata": {},
   "outputs": [
    {
     "name": "stdout",
     "output_type": "stream",
     "text": [
      "Best Model: Linear Regression\n"
     ]
    }
   ],
   "source": [
    "metrics = {\n",
    "    'Linear Regression': {'MAE': linear_reg_mae, 'MSE': linear_reg_mse, 'R-squared': linear_reg_r2},\n",
    "    'Random Forest': {'MAE': random_forest_mae, 'MSE': random_forest_mse, 'R-squared': random_forest_r2},\n",
    "    'Gradient Boosting': {'MAE': gradient_boosting_mae, 'MSE': gradient_boosting_mse, 'R-squared': gradient_boosting_r2},\n",
    "    'Support Vector Machine': {'MAE': svm_mae, 'MSE': svm_mse, 'R-squared': svm_r2}\n",
    "}\n",
    "\n",
    "\n",
    "best_model = min(metrics, key=lambda x: (metrics[x]['MAE'], metrics[x]['MSE'], -metrics[x]['R-squared']))\n",
    "print(\"Best Model:\", best_model)\n"
   ]
  },
  {
   "cell_type": "markdown",
   "id": "0edbdf37",
   "metadata": {},
   "source": [
    "#### MAE - Mean Absolute Error & RMSE - Root Mean Square Error"
   ]
  },
  {
   "cell_type": "code",
   "execution_count": 316,
   "id": "4bab5aaa",
   "metadata": {},
   "outputs": [],
   "source": [
    "def evaluate_predictions(predictions, true):\n",
    "    mae = np.mean(abs(predictions - true))\n",
    "    rmse = np.sqrt(np.mean((predictions - true) ** 2))\n",
    "\n",
    "    return mae, rmse"
   ]
  },
  {
   "cell_type": "code",
   "execution_count": 317,
   "id": "ff9f0dc9",
   "metadata": {},
   "outputs": [
    {
     "name": "stdout",
     "output_type": "stream",
     "text": [
      "Meam Absoluate Error: 3.7879\n",
      "Root Mean Square Error: 4.8252\n"
     ]
    }
   ],
   "source": [
    "mb_mae, mb_rmse = evaluate_predictions(median_preds, true)\n",
    "print('Meam Absoluate Error: {:.4f}'.format(mb_mae))\n",
    "print('Root Mean Square Error: {:.4f}'.format(mb_rmse))"
   ]
  },
  {
   "cell_type": "markdown",
   "id": "60c63e51",
   "metadata": {},
   "source": [
    "### Conclusion\n",
    "- The results makes clear that linear regression is the best model for predicting final grades based on student data based on the evaluation metrics of Model Mean Absolute Error with a value of 3.7879, Model Root Mean Squared Error with a value of 4.8252, and an R-squared with 0.1435. The linear regression model gives accuracy because the prediction is closer to the actual values. Therefour, considering the complexity and variety in student performance, the R-squared value of 0.1435 indicates that the linear regression model can account for about 14.35% of the variability in the final grades. This is rather substantial. "
   ]
  },
  {
   "cell_type": "code",
   "execution_count": null,
   "id": "fa55d3bd",
   "metadata": {},
   "outputs": [],
   "source": []
  }
 ],
 "metadata": {
  "kernelspec": {
   "display_name": "Python 3 (ipykernel)",
   "language": "python",
   "name": "python3"
  },
  "language_info": {
   "codemirror_mode": {
    "name": "ipython",
    "version": 3
   },
   "file_extension": ".py",
   "mimetype": "text/x-python",
   "name": "python",
   "nbconvert_exporter": "python",
   "pygments_lexer": "ipython3",
   "version": "3.11.5"
  }
 },
 "nbformat": 4,
 "nbformat_minor": 5
}
